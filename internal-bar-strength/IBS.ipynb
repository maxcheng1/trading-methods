{
 "cells": [
  {
   "cell_type": "markdown",
   "metadata": {},
   "source": [
    "IBS= (Close-Low)/(High-Low)\n",
    " \n",
    "We simply buy on close if IBS is lower than 0.2, and we sell any day later when the IBS closes above 0.8."
   ]
  },
  {
   "cell_type": "code",
   "execution_count": 1,
   "metadata": {},
   "outputs": [
    {
     "name": "stderr",
     "output_type": "stream",
     "text": [
      "c:\\Users\\cheng\\anaconda3\\Lib\\site-packages\\yfinance\\base.py:48: FutureWarning: The default dtype for empty Series will be 'object' instead of 'float64' in a future version. Specify a dtype explicitly to silence this warning.\n",
      "  _empty_series = pd.Series()\n"
     ]
    }
   ],
   "source": [
    "import pandas as pd\n",
    "import numpy as np\n",
    "import yfinance as yf\n",
    "from datetime import date, timedelta"
   ]
  },
  {
   "cell_type": "code",
   "execution_count": 2,
   "metadata": {},
   "outputs": [],
   "source": [
    "end_date = date.today() - timedelta(days=1)\n",
    "start_date = end_date - timedelta(days=50)"
   ]
  },
  {
   "cell_type": "code",
   "execution_count": 8,
   "metadata": {},
   "outputs": [],
   "source": [
    "start_date = \"2023-01-01\"\n",
    "end_date = \"2024-01-01\""
   ]
  },
  {
   "cell_type": "code",
   "execution_count": 9,
   "metadata": {},
   "outputs": [],
   "source": [
    "sp500_hist = yf.Ticker('^GSPC').history(start=start_date, end=end_date)\n",
    "spy_hist = yf.Ticker('SPY').history(start=start_date, end=end_date)\n",
    "voo_hist = yf.Ticker('VOO').history(start=start_date, end=end_date)"
   ]
  },
  {
   "cell_type": "code",
   "execution_count": 15,
   "metadata": {},
   "outputs": [
    {
     "data": {
      "text/html": [
       "<div>\n",
       "<style scoped>\n",
       "    .dataframe tbody tr th:only-of-type {\n",
       "        vertical-align: middle;\n",
       "    }\n",
       "\n",
       "    .dataframe tbody tr th {\n",
       "        vertical-align: top;\n",
       "    }\n",
       "\n",
       "    .dataframe thead th {\n",
       "        text-align: right;\n",
       "    }\n",
       "</style>\n",
       "<table border=\"1\" class=\"dataframe\">\n",
       "  <thead>\n",
       "    <tr style=\"text-align: right;\">\n",
       "      <th></th>\n",
       "      <th>Open</th>\n",
       "      <th>High</th>\n",
       "      <th>Low</th>\n",
       "      <th>Close</th>\n",
       "      <th>Volume</th>\n",
       "      <th>Dividends</th>\n",
       "      <th>Stock Splits</th>\n",
       "    </tr>\n",
       "    <tr>\n",
       "      <th>Date</th>\n",
       "      <th></th>\n",
       "      <th></th>\n",
       "      <th></th>\n",
       "      <th></th>\n",
       "      <th></th>\n",
       "      <th></th>\n",
       "      <th></th>\n",
       "    </tr>\n",
       "  </thead>\n",
       "  <tbody>\n",
       "    <tr>\n",
       "      <th>2023-01-03 00:00:00-05:00</th>\n",
       "      <td>3853.290039</td>\n",
       "      <td>3878.459961</td>\n",
       "      <td>3794.330078</td>\n",
       "      <td>3824.139893</td>\n",
       "      <td>3959140000</td>\n",
       "      <td>0.0</td>\n",
       "      <td>0.0</td>\n",
       "    </tr>\n",
       "    <tr>\n",
       "      <th>2023-01-04 00:00:00-05:00</th>\n",
       "      <td>3840.360107</td>\n",
       "      <td>3873.159912</td>\n",
       "      <td>3815.770020</td>\n",
       "      <td>3852.969971</td>\n",
       "      <td>4414080000</td>\n",
       "      <td>0.0</td>\n",
       "      <td>0.0</td>\n",
       "    </tr>\n",
       "    <tr>\n",
       "      <th>2023-01-05 00:00:00-05:00</th>\n",
       "      <td>3839.739990</td>\n",
       "      <td>3839.739990</td>\n",
       "      <td>3802.419922</td>\n",
       "      <td>3808.100098</td>\n",
       "      <td>3893450000</td>\n",
       "      <td>0.0</td>\n",
       "      <td>0.0</td>\n",
       "    </tr>\n",
       "    <tr>\n",
       "      <th>2023-01-06 00:00:00-05:00</th>\n",
       "      <td>3823.370117</td>\n",
       "      <td>3906.189941</td>\n",
       "      <td>3809.560059</td>\n",
       "      <td>3895.080078</td>\n",
       "      <td>3923560000</td>\n",
       "      <td>0.0</td>\n",
       "      <td>0.0</td>\n",
       "    </tr>\n",
       "    <tr>\n",
       "      <th>2023-01-09 00:00:00-05:00</th>\n",
       "      <td>3910.820068</td>\n",
       "      <td>3950.570068</td>\n",
       "      <td>3890.419922</td>\n",
       "      <td>3892.090088</td>\n",
       "      <td>4311770000</td>\n",
       "      <td>0.0</td>\n",
       "      <td>0.0</td>\n",
       "    </tr>\n",
       "  </tbody>\n",
       "</table>\n",
       "</div>"
      ],
      "text/plain": [
       "                                  Open         High          Low        Close  \\\n",
       "Date                                                                            \n",
       "2023-01-03 00:00:00-05:00  3853.290039  3878.459961  3794.330078  3824.139893   \n",
       "2023-01-04 00:00:00-05:00  3840.360107  3873.159912  3815.770020  3852.969971   \n",
       "2023-01-05 00:00:00-05:00  3839.739990  3839.739990  3802.419922  3808.100098   \n",
       "2023-01-06 00:00:00-05:00  3823.370117  3906.189941  3809.560059  3895.080078   \n",
       "2023-01-09 00:00:00-05:00  3910.820068  3950.570068  3890.419922  3892.090088   \n",
       "\n",
       "                               Volume  Dividends  Stock Splits  \n",
       "Date                                                            \n",
       "2023-01-03 00:00:00-05:00  3959140000        0.0           0.0  \n",
       "2023-01-04 00:00:00-05:00  4414080000        0.0           0.0  \n",
       "2023-01-05 00:00:00-05:00  3893450000        0.0           0.0  \n",
       "2023-01-06 00:00:00-05:00  3923560000        0.0           0.0  \n",
       "2023-01-09 00:00:00-05:00  4311770000        0.0           0.0  "
      ]
     },
     "execution_count": 15,
     "metadata": {},
     "output_type": "execute_result"
    }
   ],
   "source": [
    "sp500_hist.head()"
   ]
  },
  {
   "cell_type": "code",
   "execution_count": 11,
   "metadata": {},
   "outputs": [],
   "source": [
    "ibs_value = (sp500_hist['Close'] - sp500_hist['Low']) / (sp500_hist['High'] - sp500_hist['Low'])\n",
    "ibs = pd.DataFrame(ibs_value.reset_index())\n",
    "ibs['Date'] = ibs['Date'].dt.strftime('%Y-%m-%d')\n",
    "ibs.columns = [\"Date\", \"IBS\"]\n",
    "ibs['Decision'] = np.select([(ibs['IBS'] > 0.8), (ibs['IBS'] < 0.2)], ['Sell', 'Buy'], default='')"
   ]
  },
  {
   "cell_type": "code",
   "execution_count": 12,
   "metadata": {},
   "outputs": [
    {
     "data": {
      "text/html": [
       "<div>\n",
       "<style scoped>\n",
       "    .dataframe tbody tr th:only-of-type {\n",
       "        vertical-align: middle;\n",
       "    }\n",
       "\n",
       "    .dataframe tbody tr th {\n",
       "        vertical-align: top;\n",
       "    }\n",
       "\n",
       "    .dataframe thead th {\n",
       "        text-align: right;\n",
       "    }\n",
       "</style>\n",
       "<table border=\"1\" class=\"dataframe\">\n",
       "  <thead>\n",
       "    <tr style=\"text-align: right;\">\n",
       "      <th></th>\n",
       "      <th>Date</th>\n",
       "      <th>IBS</th>\n",
       "      <th>Decision</th>\n",
       "      <th>SPY Result</th>\n",
       "      <th>VOO Result</th>\n",
       "    </tr>\n",
       "  </thead>\n",
       "  <tbody>\n",
       "    <tr>\n",
       "      <th>0</th>\n",
       "      <td>2023-01-03</td>\n",
       "      <td>0.354331</td>\n",
       "      <td></td>\n",
       "      <td>NaN</td>\n",
       "      <td>NaN</td>\n",
       "    </tr>\n",
       "    <tr>\n",
       "      <th>1</th>\n",
       "      <td>2023-01-04</td>\n",
       "      <td>0.648197</td>\n",
       "      <td></td>\n",
       "      <td>NaN</td>\n",
       "      <td>NaN</td>\n",
       "    </tr>\n",
       "    <tr>\n",
       "      <th>2</th>\n",
       "      <td>2023-01-05</td>\n",
       "      <td>0.152202</td>\n",
       "      <td>Buy</td>\n",
       "      <td>3.181654</td>\n",
       "      <td>2.883600</td>\n",
       "    </tr>\n",
       "    <tr>\n",
       "      <th>3</th>\n",
       "      <td>2023-01-06</td>\n",
       "      <td>0.885027</td>\n",
       "      <td>Sell</td>\n",
       "      <td>-2.255696</td>\n",
       "      <td>-2.106139</td>\n",
       "    </tr>\n",
       "    <tr>\n",
       "      <th>4</th>\n",
       "      <td>2023-01-09</td>\n",
       "      <td>0.027767</td>\n",
       "      <td>Buy</td>\n",
       "      <td>-0.600872</td>\n",
       "      <td>-0.482243</td>\n",
       "    </tr>\n",
       "    <tr>\n",
       "      <th>5</th>\n",
       "      <td>2023-01-10</td>\n",
       "      <td>0.986364</td>\n",
       "      <td>Sell</td>\n",
       "      <td>-1.625365</td>\n",
       "      <td>-1.515626</td>\n",
       "    </tr>\n",
       "    <tr>\n",
       "      <th>6</th>\n",
       "      <td>2023-01-11</td>\n",
       "      <td>0.988925</td>\n",
       "      <td>Sell</td>\n",
       "      <td>-1.132820</td>\n",
       "      <td>-1.013708</td>\n",
       "    </tr>\n",
       "    <tr>\n",
       "      <th>7</th>\n",
       "      <td>2023-01-12</td>\n",
       "      <td>0.757640</td>\n",
       "      <td></td>\n",
       "      <td>NaN</td>\n",
       "      <td>NaN</td>\n",
       "    </tr>\n",
       "    <tr>\n",
       "      <th>8</th>\n",
       "      <td>2023-01-13</td>\n",
       "      <td>0.913649</td>\n",
       "      <td>Sell</td>\n",
       "      <td>0.019694</td>\n",
       "      <td>0.039360</td>\n",
       "    </tr>\n",
       "    <tr>\n",
       "      <th>9</th>\n",
       "      <td>2023-01-17</td>\n",
       "      <td>0.207655</td>\n",
       "      <td></td>\n",
       "      <td>NaN</td>\n",
       "      <td>NaN</td>\n",
       "    </tr>\n",
       "  </tbody>\n",
       "</table>\n",
       "</div>"
      ],
      "text/plain": [
       "         Date       IBS Decision  SPY Result  VOO Result\n",
       "0  2023-01-03  0.354331                  NaN         NaN\n",
       "1  2023-01-04  0.648197                  NaN         NaN\n",
       "2  2023-01-05  0.152202      Buy    3.181654    2.883600\n",
       "3  2023-01-06  0.885027     Sell   -2.255696   -2.106139\n",
       "4  2023-01-09  0.027767      Buy   -0.600872   -0.482243\n",
       "5  2023-01-10  0.986364     Sell   -1.625365   -1.515626\n",
       "6  2023-01-11  0.988925     Sell   -1.132820   -1.013708\n",
       "7  2023-01-12  0.757640                  NaN         NaN\n",
       "8  2023-01-13  0.913649     Sell    0.019694    0.039360\n",
       "9  2023-01-17  0.207655                  NaN         NaN"
      ]
     },
     "execution_count": 12,
     "metadata": {},
     "output_type": "execute_result"
    }
   ],
   "source": [
    "buy_condition = ibs['Decision'] == 'Buy'\n",
    "sell_condition = ibs['Decision'] == 'Sell'\n",
    "\n",
    "ibs['SPY Result'] = np.select([buy_condition, sell_condition], [\n",
    "    spy_hist['Open'].shift(-1) - spy_hist['Close'],\n",
    "    spy_hist['Close'] - spy_hist['Open'].shift(-1)\n",
    "], default=np.nan)\n",
    "\n",
    "ibs['VOO Result'] = np.select([buy_condition, sell_condition], [\n",
    "    voo_hist['Open'].shift(-1) - voo_hist['Close'],\n",
    "    voo_hist['Close'] - voo_hist['Open'].shift(-1)\n",
    "], default=np.nan)\n",
    "\n",
    "ibs.head(10)"
   ]
  },
  {
   "cell_type": "code",
   "execution_count": 13,
   "metadata": {},
   "outputs": [
    {
     "name": "stdout",
     "output_type": "stream",
     "text": [
      "SPY:  0.06935849425627837\n",
      "VOO:  0.05302864616772803\n"
     ]
    }
   ],
   "source": [
    "print(\"SPY: \", ibs[\"SPY Result\"].mean())\n",
    "print(\"VOO: \", ibs[\"VOO Result\"].mean())"
   ]
  }
 ],
 "metadata": {
  "kernelspec": {
   "display_name": "base",
   "language": "python",
   "name": "python3"
  },
  "language_info": {
   "codemirror_mode": {
    "name": "ipython",
    "version": 3
   },
   "file_extension": ".py",
   "mimetype": "text/x-python",
   "name": "python",
   "nbconvert_exporter": "python",
   "pygments_lexer": "ipython3",
   "version": "3.11.4"
  }
 },
 "nbformat": 4,
 "nbformat_minor": 2
}
